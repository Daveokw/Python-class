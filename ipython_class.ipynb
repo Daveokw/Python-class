{
 "cells": [
  {
   "cell_type": "code",
   "execution_count": null,
   "metadata": {},
   "outputs": [],
   "source": [
    "print('Hello World')\n",
    "?\n",
    "from IPython.display import Audio, Video, HTML, Image \n",
    "HTML(f'C:\\Users\\okanl\\OneDrive\\Documents\\SQI\\css-class\\SQI.html')\n"
   ]
  }
 ],
 "metadata": {
  "language_info": {
   "name": "python"
  }
 },
 "nbformat": 4,
 "nbformat_minor": 2
}
